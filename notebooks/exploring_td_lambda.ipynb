{
 "cells": [
  {
   "cell_type": "code",
   "execution_count": 1,
   "metadata": {},
   "outputs": [],
   "source": [
    "import numpy as np\n",
    "import gymnasium as gym\n",
    "from tqdm import tqdm\n",
    "from src.decay_scheduler import decay_schedule\n",
    "from src.q_lambda import q_lambda\n",
    "\n",
    "\n",
    "env = gym.make(\"FrozenLake-v1\", desc=None, map_name=\"4x4\", \n",
    "               is_slippery=False, render_mode=\"rgb_array\")\n",
    "\n",
    "MAX_ITERATIONS = 1000\n",
    "\n",
    "action_to_label = {0: \"Move left\",\n",
    "                   1: \"Move down\",\n",
    "                   2: \"Move right\",\n",
    "                   3: \"Move up\",}\n",
    "label_to_action = {v: k for k, v in action_to_label.items()}\n",
    " \n",
    "env.reset()\n",
    "env.render()\n",
    "for i in range(MAX_ITERATIONS):\n",
    "    random_action = env.action_space.sample()\n",
    "    observation, reward, terminated, truncated, info = env.step(random_action)\n",
    "    env.render()\n",
    "    if terminated or truncated:\n",
    "        break"
   ]
  },
  {
   "cell_type": "code",
   "execution_count": 2,
   "metadata": {},
   "outputs": [],
   "source": [
    "import random\n",
    "import numpy as np\n",
    "\n",
    "def policy(q_function, state, epsilon):\n",
    "    num_actions = q_function.shape[1]\n",
    "    if random.random() < epsilon:\n",
    "        action = random.randint(0, num_actions-1)\n",
    "    else:\n",
    "        value = np.max(q_function[state])\n",
    "        actions = np.where(q_function[state] == value)[0]\n",
    "        action = random.choice(actions)\n",
    "        # print(f'value: {value}, actions: {actions}, action: {action}')\n",
    "    \n",
    "    return action"
   ]
  },
  {
   "cell_type": "code",
   "execution_count": 7,
   "metadata": {},
   "outputs": [
    {
     "name": "stderr",
     "output_type": "stream",
     "text": [
      "                                                     \r"
     ]
    }
   ],
   "source": [
    "action_value_function, action_value_function_track = \\\n",
    "    q_lambda(policy=policy, environment=env, discount_factor=0.99, \n",
    "             initial_learning_rate=0.5, minimum_learning_rate=0.01,\n",
    "             learning_rate_decay_ratio=0.3, lambda_factor=0.4,\n",
    "             number_of_episodes=5000)"
   ]
  },
  {
   "cell_type": "code",
   "execution_count": 8,
   "metadata": {},
   "outputs": [],
   "source": [
    "import itertools\n",
    "from tabulate import tabulate\n",
    "\n",
    "def print_state_value_function(V, P, n_cols=4, prec=3, title='State-value function:'):\n",
    "    for s in range(len(P)):\n",
    "        v = V[s]\n",
    "        print(\"| \", end=\"\")\n",
    "        if np.all([done for action in P[s].values() for _, _, _, done in action]):\n",
    "            print(\"\".rjust(9), end=\" \")\n",
    "        else:\n",
    "            print(str(s).zfill(2), '{}'.format(np.round(v, prec)).rjust(6), end=\" \")\n",
    "        if (s + 1) % n_cols == 0: print(\"|\")\n",
    "\n",
    "def print_action_value_function(Q, \n",
    "                                optimal_Q=None, \n",
    "                                action_symbols=('<', '>'), \n",
    "                                prec=3, \n",
    "                                title='Action-value function:'):\n",
    "    vf_types=('',) if optimal_Q is None else ('', '*', 'er')\n",
    "    headers = ['s',] + [' '.join(i) for i in list(itertools.product(vf_types, action_symbols))]\n",
    "    print(title)\n",
    "    states = np.arange(len(Q))[..., np.newaxis]\n",
    "    arr = np.hstack((states, np.round(Q, prec)))\n",
    "    if not (optimal_Q is None):\n",
    "        arr = np.hstack((arr, np.round(optimal_Q, prec), np.round(optimal_Q-Q, prec)))\n",
    "    print(tabulate(arr, headers, tablefmt=\"fancy_grid\"))"
   ]
  },
  {
   "cell_type": "code",
   "execution_count": 9,
   "metadata": {},
   "outputs": [
    {
     "name": "stdout",
     "output_type": "stream",
     "text": [
      "Action-value function:\n",
      "╒═════╤═══════╤═══════╤═══════╤═══════╕\n",
      "│   s │    <- │     v │     ^ │     > │\n",
      "╞═════╪═══════╪═══════╪═══════╪═══════╡\n",
      "│   0 │ 0.078 │ 0.012 │ 0.103 │ 0.087 │\n",
      "├─────┼───────┼───────┼───────┼───────┤\n",
      "│   1 │ 0.092 │ 0     │ 0.105 │ 0.099 │\n",
      "├─────┼───────┼───────┼───────┼───────┤\n",
      "│   2 │ 0.004 │ 0.941 │ 0.002 │ 0.916 │\n",
      "├─────┼───────┼───────┼───────┼───────┤\n",
      "│   3 │ 0.207 │ 0     │ 0.154 │ 0.2   │\n",
      "├─────┼───────┼───────┼───────┼───────┤\n",
      "│   4 │ 0.013 │ 0.002 │ 0     │ 0.067 │\n",
      "├─────┼───────┼───────┼───────┼───────┤\n",
      "│   5 │ 0     │ 0     │ 0     │ 0     │\n",
      "├─────┼───────┼───────┼───────┼───────┤\n",
      "│   6 │ 0     │ 0.961 │ 0     │ 0.59  │\n",
      "├─────┼───────┼───────┼───────┼───────┤\n",
      "│   7 │ 0     │ 0     │ 0     │ 0     │\n",
      "├─────┼───────┼───────┼───────┼───────┤\n",
      "│   8 │ 0     │ 0     │ 0     │ 0.004 │\n",
      "├─────┼───────┼───────┼───────┼───────┤\n",
      "│   9 │ 0     │ 0.005 │ 0.001 │ 0     │\n",
      "├─────┼───────┼───────┼───────┼───────┤\n",
      "│  10 │ 0.002 │ 0.975 │ 0     │ 0.305 │\n",
      "├─────┼───────┼───────┼───────┼───────┤\n",
      "│  11 │ 0     │ 0     │ 0     │ 0     │\n",
      "├─────┼───────┼───────┼───────┼───────┤\n",
      "│  12 │ 0     │ 0     │ 0     │ 0     │\n",
      "├─────┼───────┼───────┼───────┼───────┤\n",
      "│  13 │ 0     │ 0.013 │ 0.687 │ 0     │\n",
      "├─────┼───────┼───────┼───────┼───────┤\n",
      "│  14 │ 0.518 │ 0.986 │ 1     │ 0.043 │\n",
      "├─────┼───────┼───────┼───────┼───────┤\n",
      "│  15 │ 0     │ 0     │ 0     │ 0     │\n",
      "╘═════╧═══════╧═══════╧═══════╧═══════╛\n"
     ]
    }
   ],
   "source": [
    "print_action_value_function(Q=action_value_function, action_symbols=('<-',  'v', '^', '>'))"
   ]
  },
  {
   "cell_type": "code",
   "execution_count": 11,
   "metadata": {},
   "outputs": [
    {
     "name": "stdout",
     "output_type": "stream",
     "text": [
      "Optimal action is:  2\n",
      "Optimal action is:  2\n",
      "Optimal action is:  1\n",
      "Optimal action is:  1\n",
      "Optimal action is:  1\n",
      "Optimal action is:  2\n"
     ]
    }
   ],
   "source": [
    "env = gym.make(\"FrozenLake-v1\", desc=None, map_name=\"4x4\", \n",
    "               is_slippery=False, render_mode=\"human\")\n",
    "\n",
    "MAX_ITERATIONS = 15\n",
    " \n",
    "observation, terminated, truncated = env.reset(), False,False\n",
    "\n",
    "# Extract the current state from the tuple\n",
    "current_state = observation[0]\n",
    "env.render()\n",
    "\n",
    "observation, terminated, truncated = env.reset(), False,False\n",
    "for i in range(MAX_ITERATIONS):\n",
    "    optimal_action = policy(action_value_function, current_state, 0)\n",
    "    print(\"Optimal action is: \", optimal_action)\n",
    "    observation, reward, terminated, truncated, info = env.step(optimal_action)\n",
    "    env.render()\n",
    "    if terminated or truncated:\n",
    "        break\n",
    "    current_state = observation\n",
    "    \n"
   ]
  },
  {
   "cell_type": "code",
   "execution_count": 12,
   "metadata": {},
   "outputs": [],
   "source": [
    "import matplotlib.pyplot as plt\n",
    "from itertools import cycle\n",
    "\n",
    "def plot_value_function(title, V_track, V_true=None, log=False, limit_value=0.05, limit_items=5):\n",
    "    np.random.seed(123)\n",
    "    per_col = 25\n",
    "    linecycler = cycle([\"-\",\"--\",\":\",\"-.\"])\n",
    "    legends = []\n",
    "\n",
    "    valid_values = np.argwhere(V_track[-1] > limit_value).squeeze()\n",
    "    items_idxs = np.random.choice(valid_values, \n",
    "                                  min(len(valid_values), limit_items), \n",
    "                                  replace=False)\n",
    "    # draw the true values first\n",
    "    if V_true is not None:\n",
    "        for i, state in enumerate(V_track.T):\n",
    "            if i not in items_idxs:\n",
    "                continue\n",
    "            if state[-1] < limit_value:\n",
    "                continue\n",
    "\n",
    "            label = 'v({})'.format(i)\n",
    "            plt.axhline(y=V_true[i], color='k', linestyle='-', linewidth=1)\n",
    "            plt.text(int(len(V_track)*1.02), V_true[i]+.01, label)\n",
    "\n",
    "    # then the estimates\n",
    "    for i, state in enumerate(V_track.T):\n",
    "        if i not in items_idxs:\n",
    "            continue\n",
    "        if state[-1] < limit_value:\n",
    "            continue\n",
    "        line_type = next(linecycler)\n",
    "        label = 'V({})'.format(i)\n",
    "        p, = plt.plot(state, line_type, label=label, linewidth=3)\n",
    "        legends.append(p)\n",
    "        \n",
    "    legends.reverse()\n",
    "\n",
    "    ls = []\n",
    "    for loc, idx in enumerate(range(0, len(legends), per_col)):\n",
    "        subset = legends[idx:idx+per_col]\n",
    "        l = plt.legend(subset, [p.get_label() for p in subset], \n",
    "                       loc='center right', bbox_to_anchor=(1.25, 0.5))\n",
    "        ls.append(l)\n",
    "    [plt.gca().add_artist(l) for l in ls[:-1]]\n",
    "    if log: plt.xscale('log')\n",
    "    plt.title(title)\n",
    "    plt.ylabel('State-value function')\n",
    "    plt.xlabel('Episodes (log scale)' if log else 'Episodes')\n",
    "    plt.show()"
   ]
  },
  {
   "cell_type": "code",
   "execution_count": 18,
   "metadata": {},
   "outputs": [
    {
     "data": {
      "text/plain": [
       "<matplotlib.legend.Legend at 0x167945e7f70>"
      ]
     },
     "execution_count": 18,
     "metadata": {},
     "output_type": "execute_result"
    },
    {
     "data": {
      "image/png": "[encoded data removed]",
      "text/plain": [
       "<Figure size 640x480 with 1 Axes>"
      ]
     },
     "metadata": {},
     "output_type": "display_data"
    }
   ],
   "source": [
    "state = 10\n",
    "plt.plot(action_value_function_track[:, state, :], label=label_to_action)\n",
    "plt.title(f'Action-Value Function Track for State {state} for Different Actions')\n",
    "plt.legend()"
   ]
  },
  {
   "cell_type": "code",
   "execution_count": 14,
   "metadata": {},
   "outputs": [
    {
     "data": {
      "text/plain": [
       "{0: 'Move left', 1: 'Move down', 2: 'Move right', 3: 'Move up'}"
      ]
     },
     "execution_count": 14,
     "metadata": {},
     "output_type": "execute_result"
    }
   ],
   "source": [
    "action_to_label"
   ]
  },
  {
   "cell_type": "code",
   "execution_count": 15,
   "metadata": {},
   "outputs": [],
   "source": [
    "from tabulate import tabulate\n",
    "import numpy as np\n",
    "\n",
    "def draw_optimal_policy(Q):\n",
    "    # Define the actions\n",
    "    actions = [\"<-\", \"v\", \">\", \"^\"]\n",
    "\n",
    "    # Initialize the policy\n",
    "    policy = {}\n",
    "\n",
    "    # Iterate over each state in the Q table\n",
    "    for s in range(Q.shape[0]):\n",
    "        # Find the action with the highest value\n",
    "        optimal_action_index = np.argmax(Q[s])\n",
    "        optimal_action = actions[optimal_action_index]\n",
    "\n",
    "        # Update the policy\n",
    "        policy[s] = optimal_action\n",
    "\n",
    "    # Reshape the policy into a 4x4 grid\n",
    "    policy_grid = np.array(list(policy.values())).reshape(4, 4)\n",
    "\n",
    "    # Create table data\n",
    "    table_data = [list(row) for row in policy_grid]\n",
    "\n",
    "    # Print the policy grid with tabulate\n",
    "    print(tabulate(table_data, tablefmt=\"grid\"))\n",
    "\n",
    "    return policy"
   ]
  },
  {
   "cell_type": "code",
   "execution_count": 16,
   "metadata": {},
   "outputs": [
    {
     "name": "stdout",
     "output_type": "stream",
     "text": [
      "+----+----+---+----+\n",
      "| >  | >  | v | <- |\n",
      "+----+----+---+----+\n",
      "| ^  | <- | v | <- |\n",
      "+----+----+---+----+\n",
      "| ^  | v  | v | <- |\n",
      "+----+----+---+----+\n",
      "| <- | >  | > | <- |\n",
      "+----+----+---+----+\n"
     ]
    }
   ],
   "source": [
    "# Assuming action_value_function is your numpy ndarray\n",
    "\n",
    "policy = draw_optimal_policy(action_value_function)\n"
   ]
  },
  {
   "cell_type": "code",
   "execution_count": 19,
   "metadata": {},
   "outputs": [],
   "source": [
    "def mean_return(env, gamma, pi, n_episodes=100, max_steps=200):\n",
    "    random.seed(123); np.random.seed(123) ; env.seed(123)\n",
    "    results = []\n",
    "    for _ in range(n_episodes):\n",
    "        state, done, steps = env.reset(), False, 0\n",
    "        results.append(0.0)\n",
    "        while not done and steps < max_steps:\n",
    "            state, reward, done, _ = env.step(pi(state))\n",
    "            results[-1] += (gamma**steps * reward)\n",
    "            steps += 1\n",
    "    return np.mean(results)"
   ]
  },
  {
   "cell_type": "code",
   "execution_count": 20,
   "metadata": {},
   "outputs": [],
   "source": [
    "def probability_success(env, pi, goal_state, n_episodes=100, max_steps=200):\n",
    "    random.seed(123); np.random.seed(123) ; env.seed(123)\n",
    "    results = []\n",
    "    for _ in range(n_episodes):\n",
    "        state, done, steps = env.reset(), False, 0\n",
    "        while not done and steps < max_steps:\n",
    "            state, _, done, h = env.step(pi(state))\n",
    "            steps += 1\n",
    "        results.append(state == goal_state)\n",
    "    return np.sum(results)/len(results)*100\n"
   ]
  },
  {
   "cell_type": "code",
   "execution_count": null,
   "metadata": {},
   "outputs": [],
   "source": [
    "print('Reaches goal {:.2f}%. Obtains an average return of {:.4f}.'.format(\n",
    "    probability_success(env, pi, goal_state=goal_state), \n",
    "    mean_return(env, gamma, pi)))"
   ]
  },
  {
   "cell_type": "code",
   "execution_count": 22,
   "metadata": {},
   "outputs": [],
   "source": [
    "LEFT, DOWN, RIGHT, UP = range(4)\n",
    "\n",
    "pi = lambda s: {\n",
    "    0:LEFT,   1:UP,     2:UP,    3:UP,\n",
    "    4:LEFT,   5:LEFT,   6:LEFT,  7:LEFT,\n",
    "    8:UP,     9:DOWN,  10:LEFT, 11:LEFT,\n",
    "    12:LEFT, 13:RIGHT, 14:DOWN, 15:LEFT\n",
    "}[s]"
   ]
  },
  {
   "cell_type": "code",
   "execution_count": 43,
   "metadata": {},
   "outputs": [
    {
     "data": {
      "text/plain": [
       "3"
      ]
     },
     "execution_count": 43,
     "metadata": {},
     "output_type": "execute_result"
    }
   ],
   "source": [
    "pi(1)"
   ]
  }
 ],
 "metadata": {
  "kernelspec": {
   "display_name": "rl_grokking-kp7Qviv9",
   "language": "python",
   "name": "python3"
  },
  "language_info": {
   "codemirror_mode": {
    "name": "ipython",
    "version": 3
   },
   "file_extension": ".py",
   "mimetype": "text/x-python",
   "name": "python",
   "nbconvert_exporter": "python",
   "pygments_lexer": "ipython3",
   "version": "3.10.3"
  },
  "orig_nbformat": 4
 },
 "nbformat": 4,
 "nbformat_minor": 2
}
